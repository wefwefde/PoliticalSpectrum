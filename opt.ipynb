{
 "cells": [
  {
   "cell_type": "code",
   "execution_count": 3,
   "id": "363cf48a",
   "metadata": {},
   "outputs": [],
   "source": [
    "import pandas as pd\n",
    "data = pd.read_csv(\"Hall_votes.csv\")"
   ]
  },
  {
   "cell_type": "code",
   "execution_count": 4,
   "id": "79db28f4",
   "metadata": {},
   "outputs": [],
   "source": [
    "import numpy as np\n",
    "rec =[]\n",
    "for i in range(21104606):\n",
    "    if (data[\"congress\"][i] == 117):\n",
    "        rec.append(np.array([data[\"rollnumber\"][i],data[\"icpsr\"][i],data[\"cast_code\"][i]]))"
   ]
  },
  {
   "cell_type": "code",
   "execution_count": 5,
   "id": "f2b77b44",
   "metadata": {},
   "outputs": [],
   "source": [
    "rec = np.array(rec)"
   ]
  },
  {
   "cell_type": "code",
   "execution_count": 6,
   "id": "a4f80535",
   "metadata": {},
   "outputs": [],
   "source": [
    "lrec = [rec[rec[:, 0] == val] for val in (range(1,997))]"
   ]
  },
  {
   "cell_type": "code",
   "execution_count": 7,
   "id": "8de10eaf",
   "metadata": {},
   "outputs": [],
   "source": [
    "common_values = np.unique(lrec[0][:,1])\n",
    "for i in range(996):\n",
    "    common_values = np.intersect1d(np.unique(lrec[i][:,1]),common_values)"
   ]
  },
  {
   "cell_type": "code",
   "execution_count": 8,
   "id": "50aad606",
   "metadata": {},
   "outputs": [],
   "source": [
    "common_values= common_values[:-1]"
   ]
  },
  {
   "cell_type": "code",
   "execution_count": 9,
   "id": "39fb307c",
   "metadata": {},
   "outputs": [],
   "source": [
    "votes = np.zeros((996,411))\n",
    "for i in range(996):\n",
    "    for j in range(411):\n",
    "        a = np.where(lrec[i][:,1] == common_values[j])\n",
    "        votes[i,j] = lrec[i][a,2]"
   ]
  },
  {
   "cell_type": "code",
   "execution_count": 10,
   "id": "d30016d1",
   "metadata": {},
   "outputs": [],
   "source": [
    "for i in range(996):\n",
    "    for j in range(411):\n",
    "        if votes[i,j] == 7 or votes[i,j] == 9:\n",
    "            votes[i,j] = np.random.binomial(1, 0.5)\n",
    "        if (votes[i,j] == 6):\n",
    "            votes[i,j] = 0"
   ]
  },
  {
   "cell_type": "code",
   "execution_count": 16,
   "id": "a30ef6ba",
   "metadata": {},
   "outputs": [],
   "source": [
    "import gurobipy as gp\n",
    "from gurobipy import GRB"
   ]
  },
  {
   "cell_type": "code",
   "execution_count": 17,
   "id": "e38f3981",
   "metadata": {},
   "outputs": [],
   "source": [
    "n = 25\n",
    "m = 51\n",
    "model = gp.Model('voting')\n",
    "rep = model.addVars(m,lb=-1.0, ub=1.0, vtype=GRB.CONTINUOUS, name=\"rep\")\n",
    "bill = model.addVars(n,lb=-1.0, ub=1.0, vtype=GRB.CONTINUOUS, name=\"bill\")\n",
    "right = model.addVars(n, vtype=GRB.BINARY, name=\"right\")\n",
    "sign = model.addVars(n,m, vtype=GRB.BINARY, name=\"sign\")"
   ]
  },
  {
   "cell_type": "code",
   "execution_count": 18,
   "id": "4c26344b",
   "metadata": {},
   "outputs": [],
   "source": [
    "M = 2.01\n",
    "bill[0] = 0\n",
    "right[0] = 1\n",
    "for i in range(n):\n",
    "    for j in range(m):\n",
    "        model.addConstr( (-1+2*right[i])*(rep[i]-bill[j]) <= M*sign[i,j]-0.001)\n",
    "        model.addConstr( (-1+2*right[i])*(bill[i]-rep[j]) <=M*(1-sign[i,j])-0.001)"
   ]
  },
  {
   "cell_type": "code",
   "execution_count": 19,
   "id": "f8b22f05",
   "metadata": {},
   "outputs": [
    {
     "name": "stdout",
     "output_type": "stream",
     "text": [
      "Warning: Q constraint 0 doesn't have a name\n"
     ]
    }
   ],
   "source": [
    "model.setObjective(sum((sign[i,j]-votes[i,j])**2 for i in range(n) for j in range(m)),GRB.MINIMIZE)\n",
    "model.write('v.lp')"
   ]
  },
  {
   "cell_type": "code",
   "execution_count": 20,
   "id": "64266720",
   "metadata": {},
   "outputs": [
    {
     "name": "stdout",
     "output_type": "stream",
     "text": [
      "Gurobi Optimizer version 10.0.1 build v10.0.1rc0 (win64)\n",
      "\n",
      "CPU model: AMD Ryzen 7 4800H with Radeon Graphics, instruction set [SSE2|AVX|AVX2]\n",
      "Thread count: 8 physical cores, 16 logical processors, using up to 16 threads\n",
      "\n",
      "Optimize a model with 102 rows, 1376 columns and 204 nonzeros\n",
      "Model fingerprint: 0x3efd6037\n",
      "Model has 1275 quadratic objective terms\n",
      "Model has 2448 quadratic constraints\n",
      "Variable types: 76 continuous, 1300 integer (1300 binary)\n",
      "Coefficient statistics:\n",
      "  Matrix range     [1e+00, 2e+00]\n",
      "  QMatrix range    [2e+00, 2e+00]\n",
      "  QLMatrix range   [1e+00, 2e+00]\n",
      "  Objective range  [2e+00, 2e+00]\n",
      "  QObjective range [2e+00, 2e+00]\n",
      "  Bounds range     [1e+00, 1e+00]\n",
      "  RHS range        [1e-03, 2e+00]\n",
      "  QRHS range       [1e-03, 2e+00]\n",
      "Presolve added 4896 rows and 0 columns\n",
      "Presolve removed 0 rows and 2 columns\n",
      "Presolve time: 0.02s\n",
      "Presolved: 4998 rows, 1374 columns, 19788 nonzeros\n",
      "Variable types: 75 continuous, 1299 integer (1299 binary)\n",
      "\n",
      "Root relaxation: objective 0.000000e+00, 107 iterations, 0.00 seconds (0.00 work units)\n",
      "\n",
      "    Nodes    |    Current Node    |     Objective Bounds      |     Work\n",
      " Expl Unexpl |  Obj  Depth IntInf | Incumbent    BestBd   Gap | It/Node Time\n",
      "\n",
      "     0     0    0.00000    0    9          -    0.00000      -     -    0s\n",
      "H    0     0                     756.0000000    0.00000   100%     -    0s\n",
      "H    0     0                      24.0000000    0.00000   100%     -    0s\n",
      "H    0     0                       7.0000000    0.00000   100%     -    0s\n",
      "     0     0    1.00000    0    8    7.00000    1.00000  85.7%     -    0s\n",
      "     0     0    1.01099    0    8    7.00000    1.01099  85.6%     -    0s\n",
      "     0     0    1.05597    0    8    7.00000    1.05597  84.9%     -    0s\n",
      "     0     0    1.05597    0   10    7.00000    1.05597  84.9%     -    0s\n",
      "     0     0    2.00000    0   10    7.00000    2.00000  71.4%     -    0s\n",
      "     0     0    2.00699    0   10    7.00000    2.00699  71.3%     -    0s\n",
      "     0     0    2.01399    0    8    7.00000    2.01399  71.2%     -    1s\n",
      "     0     0    2.01799    0    7    7.00000    2.01799  71.2%     -    1s\n",
      "     0     0    2.03598    0    7    7.00000    2.03598  70.9%     -    1s\n",
      "     0     0    2.03698    0    6    7.00000    2.03698  70.9%     -    1s\n",
      "     0     0    2.05397    0    9    7.00000    2.05397  70.7%     -    1s\n",
      "     0     0    2.05397    0    9    7.00000    2.05397  70.7%     -    1s\n",
      "     0     0    2.05397    0    7    7.00000    2.05397  70.7%     -    1s\n",
      "     0     0    2.05397    0   16    7.00000    2.05397  70.7%     -    1s\n",
      "     0     0    3.00000    0   10    7.00000    3.00000  57.1%     -    1s\n",
      "     0     0    3.00000    0   10    7.00000    3.00000  57.1%     -    1s\n",
      "     0     0    3.00000    0   10    7.00000    3.00000  57.1%     -    1s\n",
      "     0     0    3.00000    0   10    7.00000    3.00000  57.1%     -    1s\n",
      "     0     0    3.00000    0    8    7.00000    3.00000  57.1%     -    1s\n",
      "     0     0    3.00000    0    9    7.00000    3.00000  57.1%     -    1s\n",
      "     0     0    3.00133    0   14    7.00000    3.00133  57.1%     -    1s\n",
      "     0     0    3.00133    0   14    7.00000    3.00133  57.1%     -    1s\n",
      "     0     0    4.00133    0    9    7.00000    4.00133  42.8%     -    1s\n",
      "     0     0    4.00133    0   11    7.00000    4.00133  42.8%     -    1s\n",
      "     0     0    4.00133    0   16    7.00000    4.00133  42.8%     -    1s\n",
      "     0     0    4.00133    0   16    7.00000    4.00133  42.8%     -    1s\n",
      "     0     0    4.00133    0   18    7.00000    4.00133  42.8%     -    1s\n",
      "     0     0    4.00133    0   11    7.00000    4.00133  42.8%     -    1s\n",
      "     0     0    4.00133    0   14    7.00000    4.00133  42.8%     -    1s\n",
      "     0     0    4.00133    0   14    7.00000    4.00133  42.8%     -    2s\n",
      "     0     0    4.00133    0   14    7.00000    4.00133  42.8%     -    2s\n",
      "     0     0    4.00133    0   11    7.00000    4.00133  42.8%     -    2s\n",
      "     0     0    4.00133    0   10    7.00000    4.00133  42.8%     -    2s\n",
      "     0     0    4.00133    0   12    7.00000    4.00133  42.8%     -    2s\n",
      "     0     0    4.00133    0   17    7.00000    4.00133  42.8%     -    2s\n",
      "     0     0    4.00133    0   10    7.00000    4.00133  42.8%     -    2s\n",
      "     0     0    4.00350    0    8    7.00000    4.00350  42.8%     -    2s\n",
      "     0     0    4.00350    0    8    7.00000    4.00350  42.8%     -    2s\n",
      "     0     0    5.00383    0    7    7.00000    5.00383  28.5%     -    2s\n",
      "     0     0    5.00383    0    9    7.00000    5.00383  28.5%     -    2s\n",
      "     0     0     cutoff    0         7.00000    7.00000  0.00%     -    2s\n",
      "\n",
      "Cutting planes:\n",
      "  Learned: 6\n",
      "  Gomory: 6\n",
      "  Implied bound: 1\n",
      "  MIR: 3\n",
      "  Inf proof: 1\n",
      "\n",
      "Explored 1 nodes (3815 simplex iterations) in 2.19 seconds (1.86 work units)\n",
      "Thread count was 16 (of 16 available processors)\n",
      "\n",
      "Solution count 3: 7 24 756 \n",
      "\n",
      "Optimal solution found (tolerance 1.00e-04)\n",
      "Best objective 7.000000000000e+00, best bound 7.000000000000e+00, gap 0.0000%\n"
     ]
    }
   ],
   "source": [
    "model.optimize()"
   ]
  },
  {
   "cell_type": "code",
   "execution_count": 21,
   "id": "38e3e113",
   "metadata": {},
   "outputs": [
    {
     "name": "stdout",
     "output_type": "stream",
     "text": [
      "{0: 0, 1: <gurobi.Var bill[1] (value -0.9980000000000001)>, 2: <gurobi.Var bill[2] (value 0.0)>, 3: <gurobi.Var bill[3] (value 0.0019880119880111074)>, 4: <gurobi.Var bill[4] (value 0.0)>, 5: <gurobi.Var bill[5] (value 0.0)>, 6: <gurobi.Var bill[6] (value -0.9920000000000008)>, 7: <gurobi.Var bill[7] (value -1.0)>, 8: <gurobi.Var bill[8] (value 0.009988011988010623)>, 9: <gurobi.Var bill[9] (value 0.007988011988010732)>, 10: <gurobi.Var bill[10] (value 0.0)>, 11: <gurobi.Var bill[11] (value 0.0)>, 12: <gurobi.Var bill[12] (value 0.0)>, 13: <gurobi.Var bill[13] (value -0.9920000000000008)>, 14: <gurobi.Var bill[14] (value 0.0)>, 15: <gurobi.Var bill[15] (value 0.00398801198801084)>, 16: <gurobi.Var bill[16] (value 0.9990000000000001)>, 17: <gurobi.Var bill[17] (value 0.0)>, 18: <gurobi.Var bill[18] (value -0.9960000000000003)>, 19: <gurobi.Var bill[19] (value -0.9940000000000005)>, 20: <gurobi.Var bill[20] (value 0.0)>, 21: <gurobi.Var bill[21] (value 0.0)>, 22: <gurobi.Var bill[22] (value 0.0)>, 23: <gurobi.Var bill[23] (value 0.005988011988010842)>, 24: <gurobi.Var bill[24] (value 0.0)>}\n"
     ]
    }
   ],
   "source": [
    "print(bill)"
   ]
  },
  {
   "cell_type": "code",
   "execution_count": 22,
   "id": "2f26ddb9",
   "metadata": {},
   "outputs": [
    {
     "name": "stdout",
     "output_type": "stream",
     "text": [
      "{0: <gurobi.Var rep[0] (value 0.010988011988010513)>, 1: <gurobi.Var rep[1] (value 0.00498801198801073)>, 2: <gurobi.Var rep[2] (value -0.9970000000000002)>, 3: <gurobi.Var rep[3] (value -0.9970000000000002)>, 4: <gurobi.Var rep[4] (value -0.9970000000000002)>, 5: <gurobi.Var rep[5] (value -0.9970000000000002)>, 6: <gurobi.Var rep[6] (value -0.9970000000000002)>, 7: <gurobi.Var rep[7] (value -0.9970000000000002)>, 8: <gurobi.Var rep[8] (value 0.0029880119880109973)>, 9: <gurobi.Var rep[9] (value -0.9970000000000002)>, 10: <gurobi.Var rep[10] (value -0.9970000000000002)>, 11: <gurobi.Var rep[11] (value -0.9990000000000001)>, 12: <gurobi.Var rep[12] (value 0.9980000000000002)>, 13: <gurobi.Var rep[13] (value -0.9970000000000002)>, 14: <gurobi.Var rep[14] (value -0.9970000000000002)>, 15: <gurobi.Var rep[15] (value 1.0)>, 16: <gurobi.Var rep[16] (value -0.9970000000000002)>, 17: <gurobi.Var rep[17] (value 0.010988011988010513)>, 18: <gurobi.Var rep[18] (value -0.9970000000000002)>, 19: <gurobi.Var rep[19] (value 0.010988011988010513)>, 20: <gurobi.Var rep[20] (value -0.9970000000000002)>, 21: <gurobi.Var rep[21] (value -0.9990000000000001)>, 22: <gurobi.Var rep[22] (value 0.010988011988010513)>, 23: <gurobi.Var rep[23] (value -0.9970000000000002)>, 24: <gurobi.Var rep[24] (value -0.9930000000000007)>, 25: <gurobi.Var rep[25] (value -0.9990000000000001)>, 26: <gurobi.Var rep[26] (value -0.9970000000000002)>, 27: <gurobi.Var rep[27] (value 0.006988011988010732)>, 28: <gurobi.Var rep[28] (value -0.9950000000000004)>, 29: <gurobi.Var rep[29] (value 0.010988011988010513)>, 30: <gurobi.Var rep[30] (value 0.010988011988010513)>, 31: <gurobi.Var rep[31] (value 0.010988011988010513)>, 32: <gurobi.Var rep[32] (value -0.9970000000000002)>, 33: <gurobi.Var rep[33] (value -0.9970000000000002)>, 34: <gurobi.Var rep[34] (value -0.9970000000000002)>, 35: <gurobi.Var rep[35] (value -0.9970000000000002)>, 36: <gurobi.Var rep[36] (value 0.008988011988010622)>, 37: <gurobi.Var rep[37] (value 0.006988011988010732)>, 38: <gurobi.Var rep[38] (value 1.0)>, 39: <gurobi.Var rep[39] (value -0.9970000000000002)>, 40: <gurobi.Var rep[40] (value 0.006988011988010732)>, 41: <gurobi.Var rep[41] (value -0.9970000000000002)>, 42: <gurobi.Var rep[42] (value 0.006988011988010732)>, 43: <gurobi.Var rep[43] (value -0.9970000000000002)>, 44: <gurobi.Var rep[44] (value -0.9970000000000002)>, 45: <gurobi.Var rep[45] (value -0.9970000000000002)>, 46: <gurobi.Var rep[46] (value -0.9970000000000002)>, 47: <gurobi.Var rep[47] (value 0.010988011988010513)>, 48: <gurobi.Var rep[48] (value 1.0)>, 49: <gurobi.Var rep[49] (value -0.9970000000000002)>, 50: <gurobi.Var rep[50] (value -0.9970000000000002)>}\n"
     ]
    }
   ],
   "source": [
    "print(rep)"
   ]
  },
  {
   "cell_type": "code",
   "execution_count": null,
   "id": "d14206d6",
   "metadata": {},
   "outputs": [],
   "source": []
  },
  {
   "cell_type": "code",
   "execution_count": null,
   "id": "994cd8fd",
   "metadata": {},
   "outputs": [],
   "source": []
  }
 ],
 "metadata": {
  "kernelspec": {
   "display_name": "Python 3 (ipykernel)",
   "language": "python",
   "name": "python3"
  },
  "language_info": {
   "codemirror_mode": {
    "name": "ipython",
    "version": 3
   },
   "file_extension": ".py",
   "mimetype": "text/x-python",
   "name": "python",
   "nbconvert_exporter": "python",
   "pygments_lexer": "ipython3",
   "version": "3.11.4"
  }
 },
 "nbformat": 4,
 "nbformat_minor": 5
}
