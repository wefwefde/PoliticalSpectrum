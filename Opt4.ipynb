{
 "cells": [
  {
   "cell_type": "code",
   "execution_count": 4,
   "id": "363cf48a",
   "metadata": {},
   "outputs": [],
   "source": [
    "import pandas as pd\n",
    "data = pd.read_csv(\"Hall_votes.csv\")"
   ]
  },
  {
   "cell_type": "code",
   "execution_count": 5,
   "id": "79db28f4",
   "metadata": {},
   "outputs": [],
   "source": [
    "import numpy as np\n",
    "rec =[]\n",
    "for i in range(21104606):\n",
    "    if (data[\"congress\"][i] == 117):\n",
    "        rec.append(np.array([data[\"rollnumber\"][i],data[\"icpsr\"][i],data[\"cast_code\"][i]]))"
   ]
  },
  {
   "cell_type": "code",
   "execution_count": 6,
   "id": "f2b77b44",
   "metadata": {},
   "outputs": [],
   "source": [
    "rec = np.array(rec)"
   ]
  },
  {
   "cell_type": "code",
   "execution_count": 7,
   "id": "a4f80535",
   "metadata": {},
   "outputs": [],
   "source": [
    "lrec = [rec[rec[:, 0] == val] for val in (range(1,997))]"
   ]
  },
  {
   "cell_type": "code",
   "execution_count": 8,
   "id": "8de10eaf",
   "metadata": {},
   "outputs": [],
   "source": [
    "common_values = np.unique(lrec[0][:,1])\n",
    "for i in range(996):\n",
    "    common_values = np.intersect1d(np.unique(lrec[i][:,1]),common_values)"
   ]
  },
  {
   "cell_type": "code",
   "execution_count": 9,
   "id": "50aad606",
   "metadata": {},
   "outputs": [],
   "source": [
    "common_values= common_values[:-1]"
   ]
  },
  {
   "cell_type": "code",
   "execution_count": 10,
   "id": "39fb307c",
   "metadata": {},
   "outputs": [],
   "source": [
    "votes = np.zeros((996,411))\n",
    "for i in range(996):\n",
    "    for j in range(411):\n",
    "        a = np.where(lrec[i][:,1] == common_values[j])\n",
    "        votes[i,j] = lrec[i][a,2]"
   ]
  },
  {
   "cell_type": "code",
   "execution_count": 11,
   "id": "d30016d1",
   "metadata": {},
   "outputs": [],
   "source": [
    "for i in range(996):\n",
    "    for j in range(411):\n",
    "        if votes[i,j] == 7 or votes[i,j] == 9:\n",
    "            votes[i,j] = np.random.binomial(1, 0.5)\n",
    "        if (votes[i,j] == 6):\n",
    "            votes[i,j] = 0"
   ]
  },
  {
   "cell_type": "code",
   "execution_count": 12,
   "id": "a30ef6ba",
   "metadata": {},
   "outputs": [],
   "source": [
    "import gurobipy as gp\n",
    "from gurobipy import GRB"
   ]
  },
  {
   "cell_type": "code",
   "execution_count": 13,
   "id": "e38f3981",
   "metadata": {},
   "outputs": [
    {
     "name": "stdout",
     "output_type": "stream",
     "text": [
      "Set parameter Username\n",
      "Academic license - for non-commercial use only - expires 2024-04-06\n"
     ]
    }
   ],
   "source": [
    "n = 25\n",
    "m = 51\n",
    "model = gp.Model('voting')\n",
    "rep = model.addVars(m,lb=-1.0, ub=1.0, vtype=GRB.CONTINUOUS, name=\"rep\")\n",
    "bill = model.addVars(n,lb=-1.0, ub=1.0, vtype=GRB.CONTINUOUS, name=\"bill\")\n",
    "right = model.addVars(n, vtype=GRB.BINARY, name=\"sign\")\n",
    "correct = model.addVars(n,m, vtype=GRB.BINARY, name=\"correct\")"
   ]
  },
  {
   "cell_type": "code",
   "execution_count": 20,
   "id": "4c26344b",
   "metadata": {},
   "outputs": [
    {
     "ename": "TypeError",
     "evalue": "'gurobipy.LinExpr' object is not iterable",
     "output_type": "error",
     "traceback": [
      "\u001b[1;31m---------------------------------------------------------------------------\u001b[0m",
      "\u001b[1;31mTypeError\u001b[0m                                 Traceback (most recent call last)",
      "Input \u001b[1;32mIn [20]\u001b[0m, in \u001b[0;36m<cell line: 4>\u001b[1;34m()\u001b[0m\n\u001b[0;32m      4\u001b[0m \u001b[38;5;28;01mfor\u001b[39;00m i \u001b[38;5;129;01min\u001b[39;00m \u001b[38;5;28mrange\u001b[39m(n):\n\u001b[0;32m      5\u001b[0m     \u001b[38;5;28;01mfor\u001b[39;00m j \u001b[38;5;129;01min\u001b[39;00m \u001b[38;5;28mrange\u001b[39m(m):\n\u001b[1;32m----> 6\u001b[0m         model\u001b[38;5;241m.\u001b[39maddConstr(correct[i,j] \u001b[38;5;241m==\u001b[39m (right[i] \u001b[38;5;241m*\u001b[39m votes[i,j] \u001b[38;5;241m*\u001b[39m (\u001b[43mgp\u001b[49m\u001b[38;5;241;43m.\u001b[39;49m\u001b[43mquicksum\u001b[49m\u001b[43m(\u001b[49m\u001b[43mrep\u001b[49m\u001b[43m[\u001b[49m\u001b[43mj\u001b[49m\u001b[43m]\u001b[49m\u001b[43m \u001b[49m\u001b[38;5;241;43m-\u001b[39;49m\u001b[43m \u001b[49m\u001b[43mbill\u001b[49m\u001b[43m[\u001b[49m\u001b[43mi\u001b[49m\u001b[43m]\u001b[49m\u001b[43m)\u001b[49m \u001b[38;5;241m>\u001b[39m \u001b[38;5;241m0\u001b[39m))\n\u001b[0;32m      7\u001b[0m                                        \u001b[38;5;241m+\u001b[39m (right[i] \u001b[38;5;241m*\u001b[39m (\u001b[38;5;241m1\u001b[39m \u001b[38;5;241m-\u001b[39m votes[i,j]) \u001b[38;5;241m*\u001b[39m (gp\u001b[38;5;241m.\u001b[39mquicksum(bill[i] \u001b[38;5;241m-\u001b[39m rep[j]) \u001b[38;5;241m>\u001b[39m \u001b[38;5;241m0\u001b[39m))\n\u001b[0;32m      8\u001b[0m                                        \u001b[38;5;241m+\u001b[39m ((\u001b[38;5;241m1\u001b[39m \u001b[38;5;241m-\u001b[39m right[i]) \u001b[38;5;241m*\u001b[39m (\u001b[38;5;241m1\u001b[39m \u001b[38;5;241m-\u001b[39m votes[i,j]) \u001b[38;5;241m*\u001b[39m (gp\u001b[38;5;241m.\u001b[39mquicksum(bill[i] \u001b[38;5;241m-\u001b[39m rep[j] \u001b[38;5;241m>\u001b[39m \u001b[38;5;241m0\u001b[39m)))\n\u001b[0;32m      9\u001b[0m                                        \u001b[38;5;241m+\u001b[39m ((\u001b[38;5;241m1\u001b[39m \u001b[38;5;241m-\u001b[39m right[i]) \u001b[38;5;241m*\u001b[39m votes[i,j] \u001b[38;5;241m*\u001b[39m (gp\u001b[38;5;241m.\u001b[39mquicksum(rep[j] \u001b[38;5;241m-\u001b[39m bill[i]) \u001b[38;5;241m>\u001b[39m \u001b[38;5;241m0\u001b[39m)))\n",
      "File \u001b[1;32msrc\\gurobipy\\gurobi.pxi:3706\u001b[0m, in \u001b[0;36mgurobipy.quicksum\u001b[1;34m()\u001b[0m\n",
      "\u001b[1;31mTypeError\u001b[0m: 'gurobipy.LinExpr' object is not iterable"
     ]
    }
   ],
   "source": [
    "M = 2.01\n",
    "bill[0] = 0\n",
    "right[0] = 1\n",
    "for i in range(n):\n",
    "    for j in range(m):\n",
    "        model.addConstr(correct[i,j] == (right[i] * votes[i,j] * ((rep[j] - bill[i]) > 0))\n",
    "                                       + (right[i] * (1 - votes[i,j]) * ((bill[i] - rep[j]) > 0))\n",
    "                                       + ((1 - right[i]) * (1 - votes[i,j]) * ((bill[i] - rep[j] > 0)))\n",
    "                                       + ((1 - right[i]) * votes[i,j] * ((rep[j] - bill[i]) > 0)))"
   ]
  },
  {
   "cell_type": "code",
   "execution_count": 16,
   "id": "f8b22f05",
   "metadata": {},
   "outputs": [],
   "source": [
    "model.setObjective(sum(correct[i,j] for i in range(n) for j in range(m)),GRB.MINIMIZE)\n",
    "model.write('v.lp')"
   ]
  },
  {
   "cell_type": "code",
   "execution_count": null,
   "id": "64266720",
   "metadata": {},
   "outputs": [],
   "source": [
    "model.optimize()"
   ]
  },
  {
   "cell_type": "code",
   "execution_count": 29,
   "id": "38e3e113",
   "metadata": {},
   "outputs": [
    {
     "name": "stdout",
     "output_type": "stream",
     "text": [
      "{0: <gurobi.Var bill[0] (value 0.9920000000000043)>, 1: <gurobi.Var bill[1] (value 0.9980000000000038)>, 2: <gurobi.Var bill[2] (value 0.9920000000000043)>, 3: <gurobi.Var bill[3] (value 0.9920000000000043)>, 4: <gurobi.Var bill[4] (value 0.9920000000000043)>, 5: <gurobi.Var bill[5] (value 0.9920000000000042)>, 6: <gurobi.Var bill[6] (value 0.9920000000000043)>, 7: <gurobi.Var bill[7] (value 1.0)>, 8: <gurobi.Var bill[8] (value -0.9960000000000006)>, 9: <gurobi.Var bill[9] (value -0.9940000000000008)>, 10: <gurobi.Var bill[10] (value 0.9920000000000043)>, 11: <gurobi.Var bill[11] (value 0.9920000000000043)>, 12: <gurobi.Var bill[12] (value 0.9920000000000043)>, 13: <gurobi.Var bill[13] (value 0.9920000000000043)>, 14: <gurobi.Var bill[14] (value 0.9920000000000043)>, 15: <gurobi.Var bill[15] (value 0.9880000000000047)>, 16: <gurobi.Var bill[16] (value -0.9980000000000003)>, 17: <gurobi.Var bill[17] (value 0.9920000000000043)>, 18: <gurobi.Var bill[18] (value 0.9920000000000043)>, 19: <gurobi.Var bill[19] (value 0.9920000000000043)>, 20: <gurobi.Var bill[20] (value 0.9920000000000043)>, 21: <gurobi.Var bill[21] (value 0.9920000000000043)>, 22: <gurobi.Var bill[22] (value 0.9920000000000042)>, 23: <gurobi.Var bill[23] (value 0.9880000000000047)>, 24: <gurobi.Var bill[24] (value 0.9920000000000043)>, 25: <gurobi.Var bill[25] (value 0.9920000000000043)>, 26: <gurobi.Var bill[26] (value 0.9880000000000047)>, 27: <gurobi.Var bill[27] (value 0.9900000000000044)>, 28: <gurobi.Var bill[28] (value 0.9900000000000044)>, 29: <gurobi.Var bill[29] (value 0.9880000000000047)>, 30: <gurobi.Var bill[30] (value -1.0)>, 31: <gurobi.Var bill[31] (value 0.996000000000004)>, 32: <gurobi.Var bill[32] (value 0.9940000000000042)>, 33: <gurobi.Var bill[33] (value 0.9940000000000042)>, 34: <gurobi.Var bill[34] (value 1.0)>, 35: <gurobi.Var bill[35] (value 1.0)>, 36: <gurobi.Var bill[36] (value 0.9920000000000042)>, 37: <gurobi.Var bill[37] (value 0.9920000000000043)>, 38: <gurobi.Var bill[38] (value 0.9920000000000043)>, 39: <gurobi.Var bill[39] (value 0.9860000000000048)>, 40: <gurobi.Var bill[40] (value 0.9920000000000042)>, 41: <gurobi.Var bill[41] (value 0.9880000000000047)>, 42: <gurobi.Var bill[42] (value 0.9920000000000042)>, 43: <gurobi.Var bill[43] (value 0.9880000000000047)>, 44: <gurobi.Var bill[44] (value 0.9920000000000043)>, 45: <gurobi.Var bill[45] (value 0.9920000000000043)>, 46: <gurobi.Var bill[46] (value 0.9920000000000042)>, 47: <gurobi.Var bill[47] (value 0.9920000000000043)>, 48: <gurobi.Var bill[48] (value 0.9920000000000043)>, 49: <gurobi.Var bill[49] (value 0.9920000000000043)>}\n"
     ]
    }
   ],
   "source": [
    "print(bill)"
   ]
  },
  {
   "cell_type": "code",
   "execution_count": 30,
   "id": "2f26ddb9",
   "metadata": {},
   "outputs": [
    {
     "name": "stdout",
     "output_type": "stream",
     "text": [
      "{0: <gurobi.Var rep[0] (value -0.9970000000000004)>, 1: <gurobi.Var rep[1] (value 0.9910000000000043)>, 2: <gurobi.Var rep[2] (value 0.9950000000000041)>, 3: <gurobi.Var rep[3] (value 0.9970000000000039)>, 4: <gurobi.Var rep[4] (value 0.9970000000000039)>, 5: <gurobi.Var rep[5] (value 0.9970000000000039)>, 6: <gurobi.Var rep[6] (value 0.9950000000000041)>, 7: <gurobi.Var rep[7] (value 0.9970000000000039)>, 8: <gurobi.Var rep[8] (value 0.9890000000000045)>, 9: <gurobi.Var rep[9] (value 0.9970000000000039)>, 10: <gurobi.Var rep[10] (value 0.9970000000000039)>, 11: <gurobi.Var rep[11] (value 0.9970000000000039)>, 12: <gurobi.Var rep[12] (value -0.9970000000000004)>, 13: <gurobi.Var rep[13] (value 0.9970000000000039)>, 14: <gurobi.Var rep[14] (value 0.9970000000000039)>, 15: <gurobi.Var rep[15] (value -0.9990000000000003)>, 16: <gurobi.Var rep[16] (value 0.9970000000000039)>, 17: <gurobi.Var rep[17] (value -0.9970000000000004)>, 18: <gurobi.Var rep[18] (value 0.9970000000000039)>, 19: <gurobi.Var rep[19] (value -0.9970000000000004)>, 20: <gurobi.Var rep[20] (value 0.9970000000000039)>, 21: <gurobi.Var rep[21] (value 0.9970000000000039)>, 22: <gurobi.Var rep[22] (value -0.9970000000000004)>, 23: <gurobi.Var rep[23] (value 0.9950000000000041)>, 24: <gurobi.Var rep[24] (value 0.9970000000000039)>, 25: <gurobi.Var rep[25] (value 0.9990000000000039)>, 26: <gurobi.Var rep[26] (value 0.9970000000000039)>, 27: <gurobi.Var rep[27] (value 0.9870000000000047)>, 28: <gurobi.Var rep[28] (value 0.9990000000000039)>, 29: <gurobi.Var rep[29] (value -0.9970000000000004)>, 30: <gurobi.Var rep[30] (value -0.9970000000000004)>, 31: <gurobi.Var rep[31] (value -0.9970000000000004)>, 32: <gurobi.Var rep[32] (value 0.9970000000000039)>, 33: <gurobi.Var rep[33] (value 0.9970000000000039)>, 34: <gurobi.Var rep[34] (value 0.9970000000000039)>, 35: <gurobi.Var rep[35] (value 0.9970000000000039)>, 36: <gurobi.Var rep[36] (value -0.9950000000000007)>, 37: <gurobi.Var rep[37] (value 0.9850000000000048)>, 38: <gurobi.Var rep[38] (value -0.9990000000000003)>, 39: <gurobi.Var rep[39] (value 0.9970000000000039)>, 40: <gurobi.Var rep[40] (value 0.9850000000000048)>, 41: <gurobi.Var rep[41] (value 0.9970000000000039)>, 42: <gurobi.Var rep[42] (value -0.9930000000000009)>, 43: <gurobi.Var rep[43] (value 0.9970000000000039)>, 44: <gurobi.Var rep[44] (value 0.9930000000000042)>, 45: <gurobi.Var rep[45] (value 0.9970000000000039)>, 46: <gurobi.Var rep[46] (value 0.9970000000000039)>, 47: <gurobi.Var rep[47] (value -0.9970000000000004)>, 48: <gurobi.Var rep[48] (value -0.9990000000000003)>, 49: <gurobi.Var rep[49] (value 0.9970000000000039)>, 50: <gurobi.Var rep[50] (value 0.9970000000000039)>}\n"
     ]
    }
   ],
   "source": [
    "print(rep)"
   ]
  },
  {
   "cell_type": "code",
   "execution_count": null,
   "id": "d14206d6",
   "metadata": {},
   "outputs": [],
   "source": []
  }
 ],
 "metadata": {
  "kernelspec": {
   "display_name": "Python 3 (ipykernel)",
   "language": "python",
   "name": "python3"
  },
  "language_info": {
   "codemirror_mode": {
    "name": "ipython",
    "version": 3
   },
   "file_extension": ".py",
   "mimetype": "text/x-python",
   "name": "python",
   "nbconvert_exporter": "python",
   "pygments_lexer": "ipython3",
   "version": "3.11.4"
  }
 },
 "nbformat": 4,
 "nbformat_minor": 5
}
